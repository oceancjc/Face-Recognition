{
  "nbformat": 4,
  "nbformat_minor": 0,
  "metadata": {
    "colab": {
      "name": "minst_cnn5_bn.ipynb",
      "version": "0.3.2",
      "provenance": []
    },
    "kernelspec": {
      "display_name": "Python 3",
      "language": "python",
      "name": "python3"
    },
    "accelerator": "GPU"
  },
  "cells": [
    {
      "cell_type": "markdown",
      "metadata": {
        "id": "view-in-github",
        "colab_type": "text"
      },
      "source": [
        "[View in Colaboratory](https://colab.research.google.com/github/oceancjc/Face-Recognition/blob/master/minst_cnn5_bn.ipynb)"
      ]
    },
    {
      "metadata": {
        "id": "fFkL8WvAr2--",
        "colab_type": "text"
      },
      "cell_type": "markdown",
      "source": [
        "# Step 1. Import packets and Load Minst Data from file"
      ]
    },
    {
      "metadata": {
        "id": "5q_mKQDy3syQ",
        "colab_type": "code",
        "colab": {
          "base_uri": "https://localhost:8080/",
          "height": 423
        },
        "outputId": "3aec483e-67c3-4b29-b7ed-45ed69a484ec"
      },
      "cell_type": "code",
      "source": [
        "import tensorflow as tf\n",
        "import numpy as np\n",
        "from tensorflow.examples.tutorials.mnist import input_data as mnist_data\n",
        "print(\"Tensorflow version \" + tf.__version__)\n",
        "from tensorflow.python.client import device_lib\n",
        "device_lib.list_local_devices()\n",
        "\n",
        "# Download images and labels into mnist.test (10K images+labels) and mnist.train (60K images+labels)\n",
        "#For remote: Usually colab.research.google.com\n",
        "mnist = mnist_data.read_data_sets(\"data\", one_hot=True, reshape=False, validation_size=0)\n",
        "#For local:\n",
        "#mnist = mnist_data.read_data_sets(r\"D:\\MachineLearning\\minst\", one_hot=True, reshape=False, validation_size=0)"
      ],
      "execution_count": 1,
      "outputs": [
        {
          "output_type": "stream",
          "text": [
            "Tensorflow version 1.7.0\n",
            "WARNING:tensorflow:From <ipython-input-1-ba43d1f6df12>:10: read_data_sets (from tensorflow.contrib.learn.python.learn.datasets.mnist) is deprecated and will be removed in a future version.\n",
            "Instructions for updating:\n",
            "Please use alternatives such as official/mnist/dataset.py from tensorflow/models.\n",
            "WARNING:tensorflow:From /usr/local/lib/python3.6/dist-packages/tensorflow/contrib/learn/python/learn/datasets/mnist.py:260: maybe_download (from tensorflow.contrib.learn.python.learn.datasets.base) is deprecated and will be removed in a future version.\n",
            "Instructions for updating:\n",
            "Please write your own downloading logic.\n",
            "WARNING:tensorflow:From /usr/local/lib/python3.6/dist-packages/tensorflow/contrib/learn/python/learn/datasets/mnist.py:262: extract_images (from tensorflow.contrib.learn.python.learn.datasets.mnist) is deprecated and will be removed in a future version.\n",
            "Instructions for updating:\n",
            "Please use tf.data to implement this functionality.\n",
            "Extracting data/train-images-idx3-ubyte.gz\n",
            "WARNING:tensorflow:From /usr/local/lib/python3.6/dist-packages/tensorflow/contrib/learn/python/learn/datasets/mnist.py:267: extract_labels (from tensorflow.contrib.learn.python.learn.datasets.mnist) is deprecated and will be removed in a future version.\n",
            "Instructions for updating:\n",
            "Please use tf.data to implement this functionality.\n",
            "Extracting data/train-labels-idx1-ubyte.gz\n",
            "WARNING:tensorflow:From /usr/local/lib/python3.6/dist-packages/tensorflow/contrib/learn/python/learn/datasets/mnist.py:110: dense_to_one_hot (from tensorflow.contrib.learn.python.learn.datasets.mnist) is deprecated and will be removed in a future version.\n",
            "Instructions for updating:\n",
            "Please use tf.one_hot on tensors.\n",
            "Extracting data/t10k-images-idx3-ubyte.gz\n",
            "Extracting data/t10k-labels-idx1-ubyte.gz\n",
            "WARNING:tensorflow:From /usr/local/lib/python3.6/dist-packages/tensorflow/contrib/learn/python/learn/datasets/mnist.py:290: DataSet.__init__ (from tensorflow.contrib.learn.python.learn.datasets.mnist) is deprecated and will be removed in a future version.\n",
            "Instructions for updating:\n",
            "Please use alternatives such as official/mnist/dataset.py from tensorflow/models.\n"
          ],
          "name": "stdout"
        }
      ]
    },
    {
      "metadata": {
        "id": "dS_InPtfr2_P",
        "colab_type": "text"
      },
      "cell_type": "markdown",
      "source": [
        "# Step 2. Set up learning model, train the network and save checkpoint"
      ]
    },
    {
      "metadata": {
        "id": "CHdis_tJ3zF8",
        "colab_type": "code",
        "colab": {}
      },
      "cell_type": "code",
      "source": [
        "# input X: 28x28 grayscale images, the first dimension (None) will index the images in the mini-batch\n",
        "X = tf.placeholder(tf.float32, [None, 28, 28, 1],name = 'Input')\n",
        "# correct answers will go here\n",
        "Y_LABEL = tf.placeholder(tf.float32, [None, 10],name = 'Label')\n",
        "# variable learning rate\n",
        "lr = tf.placeholder(tf.float32)\n",
        "# test flag for batch norm\n",
        "iftraining = tf.placeholder(tf.bool,name = 'Mode')\n",
        "# dropout probability\n",
        "\n",
        "\n",
        "def batch_normal(X,iftraining):\n",
        "    return  tf.layers.batch_normalization(X, training=iftraining)\n",
        "\n",
        "\n",
        "def hidden_cnn_layer(X, sizeOutput,kernal, stride, activation = 'sigmoid',bn_enable = False,iftraining = True):\n",
        "    W = tf.Variable(tf.truncated_normal([int(kernal), int(kernal), int(X.shape[-1]), int(sizeOutput)], stddev=0.1))\n",
        "    #B = tf.Variable(tf.zeros(sizeOutput))   #Not necessary in bn as offset exists\n",
        "    #Y = tf.nn.conv2d(X, W, strides=[1, stride, stride, 1], padding='SAME') + B\n",
        "    Y = tf.nn.conv2d(X, W, strides=[1, int(stride), int(stride), 1], padding='SAME')\n",
        "    if bn_enable:    Y_bn = batch_normal(Y, iftraining)\n",
        "    else:            Y_bn = Y\n",
        "    if activation == 'sigmoid':    A = tf.nn.sigmoid(Y_bn)\n",
        "    elif activation == 'relu':     A = tf.nn.relu(Y_bn)\n",
        "    else:                          A = Y_bn\n",
        "      \n",
        "    return A\n",
        "                             \n",
        "\n",
        "def hidden_fc_layer(X,sizeOutput,activation = '',bn_enable = False,iftraining = True):\n",
        "    W = tf.Variable(tf.truncated_normal([int(X.shape[-1]), sizeOutput], stddev=0.1))\n",
        "    if bn_enable == False:\n",
        "        B = tf.Variable(tf.zeros(sizeOutput))   #Not necessary in bn as offset exists\n",
        "        Y = tf.matmul(X,W) + B\n",
        "    else:         \n",
        "        Y_linear = tf.matmul(X,W)\n",
        "        Y = batch_normal(Y_linear, iftraining)\n",
        "\n",
        "    if activation == 'sigmoid':     A = tf.nn.sigmoid(Y)\n",
        "    elif activation == 'relu':      A = tf.nn.relu(Y)\n",
        "    else:                           A = Y\n",
        "\n",
        "    return A\n",
        "\n",
        "A1 = hidden_cnn_layer(X, sizeOutput=24, kernal=5, stride=1, activation ='relu', bn_enable=True, iftraining = iftraining)\n",
        "A2 = hidden_cnn_layer(A1,sizeOutput=48, kernal=5, stride=2, activation ='relu', bn_enable=True, iftraining = iftraining)\n",
        "A3 = hidden_cnn_layer(A2,sizeOutput=64, kernal=5, stride=2, activation ='relu', bn_enable=True, iftraining = iftraining)\n",
        "\n",
        "size = 1\n",
        "for i in range(1,len(A3.shape)):     size*= int(A3.shape[i])\n",
        "print(size)\n",
        "A3_reshape = tf.reshape(A3,[-1,size])\n",
        "print(A3_reshape.shape)\n",
        "print(A3.shape)\n",
        "A4 = hidden_fc_layer(A3_reshape,sizeOutput = 200,activation ='relu', bn_enable=True, iftraining = iftraining)\n",
        "Y_linear = hidden_fc_layer(A4,sizeOutput = 10)\n",
        "Y_predict       = tf.nn.softmax(Y_linear,name = 'Y_predict')\n",
        "\n",
        "\n",
        "cross_entropy = tf.reduce_mean(\n",
        "    tf.nn.softmax_cross_entropy_with_logits(labels=Y_LABEL, logits=Y_linear))*100\n",
        "optimizer = tf.train.AdamOptimizer(lr)\n",
        "\n",
        "update_ops = tf.get_collection(tf.GraphKeys.UPDATE_OPS)\n",
        "with tf.control_dependencies(update_ops):\n",
        "    train_step = optimizer.minimize(cross_entropy)"
      ],
      "execution_count": 0,
      "outputs": []
    },
    {
      "metadata": {
        "id": "4rhn_PkV4AJI",
        "colab_type": "code",
        "colab": {
          "base_uri": "https://localhost:8080/",
          "height": 218
        },
        "outputId": "ee792e4c-2990-406d-ad49-8de3f0ad0f0a"
      },
      "cell_type": "code",
      "source": [
        "sess = tf.InteractiveSession()\n",
        "tf.global_variables_initializer().run()\n",
        "\n",
        "max_learning_rate = 0.015\n",
        "min_learning_rate = 0.001\n",
        "decay_speed = 1000.0\n",
        "\n",
        "import time\n",
        "time_start=time.time()    #1970.1.1开始到现在的秒数\n",
        "\n",
        "saver = tf.train.Saver()   \n",
        "for _ in range(1000+1):\n",
        "  batch_xs, batch_ys = mnist.train.next_batch(1000)\n",
        "  learning_rate = min_learning_rate + (max_learning_rate - min_learning_rate) * np.exp(-_/decay_speed)\n",
        "  sess.run(train_step, feed_dict={X: batch_xs, Y_LABEL: batch_ys, lr: learning_rate, iftraining: True})\n",
        "\n",
        "  if _%100 == 0:  \n",
        "    correct_prediction = tf.equal(tf.argmax(Y_linear, 1), tf.argmax(Y_LABEL, 1))\n",
        "    accuracy = tf.reduce_mean(tf.cast(correct_prediction, tf.float32))\n",
        "    print(_, sess.run(accuracy, feed_dict={X: mnist.test.images, Y_LABEL: mnist.test.labels, iftraining: True}))\n",
        "    saver.save(sess, \"./Model_Minst/CNN_bn.ckpt\",global_step= _ )\n",
        "\n",
        "time_end=time.time()\n",
        "print('totally cost (s)',time_end-time_start)"
      ],
      "execution_count": 3,
      "outputs": [
        {
          "output_type": "stream",
          "text": [
            "0 0.6501\n",
            "100 0.99\n",
            "200 0.9908\n",
            "300 0.9911\n",
            "400 0.9922\n",
            "500 0.9934\n",
            "600 0.993\n",
            "700 0.9932\n",
            "800 0.9934\n",
            "900 0.9933\n",
            "1000 0.9931\n",
            "totally cost (s) 158.91582798957825\n"
          ],
          "name": "stdout"
        }
      ]
    },
    {
      "metadata": {
        "id": "Zimg7WC-5WHg",
        "colab_type": "text"
      },
      "cell_type": "markdown",
      "source": [
        "# Step 3. Freeze learning model. Use checkpoint file to generate pb file"
      ]
    },
    {
      "metadata": {
        "id": "TXiW0raC5gjF",
        "colab_type": "code",
        "colab": {
          "base_uri": "https://localhost:8080/",
          "height": 67
        },
        "outputId": "1d9e3eef-2ac3-4766-887c-9622babd8633"
      },
      "cell_type": "code",
      "source": [
        "import tensorflow as tf\n",
        "with tf.Session() as sess:\n",
        "\n",
        "    #初始化变量\n",
        "    sess.run(tf.global_variables_initializer())\n",
        "\n",
        "    #获取最新的checkpoint，其实就是解析了checkpoint文件\n",
        "    latest_ckpt = tf.train.latest_checkpoint(\"./Model_Minst\")\n",
        "\n",
        "    #加载图\n",
        "    restore_saver = tf.train.import_meta_graph('./Model_Minst/CNN_bn.ckpt-1000.meta')\n",
        "\n",
        "    #恢复图，即将weights等参数加入图对应位置中\n",
        "    restore_saver.restore(sess, latest_ckpt)\n",
        "\n",
        "    #将图中的变量转为常量\n",
        "    output_graph_def = tf.graph_util.convert_variables_to_constants(\n",
        "        sess, sess.graph_def , [\"Y_predict\"])\n",
        "    #将新的图保存到\"/pretrained/graph.pb\"文件中\n",
        "    tf.train.write_graph(output_graph_def, 'pretrained', \"graph.pb\", as_text=False)"
      ],
      "execution_count": 4,
      "outputs": [
        {
          "output_type": "stream",
          "text": [
            "INFO:tensorflow:Restoring parameters from ./Model_Minst/CNN_bn.ckpt-1000\n",
            "INFO:tensorflow:Froze 22 variables.\n",
            "Converted 22 variables to const ops.\n"
          ],
          "name": "stdout"
        }
      ]
    },
    {
      "metadata": {
        "id": "shfWdu64r2_j",
        "colab_type": "text"
      },
      "cell_type": "markdown",
      "source": [
        "# Step 4. Prediction: Test batch size increase from 1"
      ]
    },
    {
      "metadata": {
        "id": "W9Rv3Xu57gDR",
        "colab_type": "code",
        "colab": {
          "base_uri": "https://localhost:8080/",
          "height": 437
        },
        "outputId": "b7271417-e11c-4fc0-f644-5b19c073398e"
      },
      "cell_type": "code",
      "source": [
        "import numpy as np\n",
        "import tensorflow as tf\n",
        "\n",
        "\n",
        "def recognize(img_input, pb_file_path):\n",
        "    with tf.Graph().as_default():\n",
        "        output_graph_def = tf.GraphDef()\n",
        "\n",
        "        with open(pb_file_path, \"rb\") as f:\n",
        "            output_graph_def.ParseFromString(f.read())\n",
        "            _ = tf.import_graph_def(output_graph_def, name=\"\")\n",
        "\n",
        "        with tf.Session() as sess:\n",
        "            init = tf.global_variables_initializer()\n",
        "            sess.run(init)\n",
        "\n",
        "            input_x = sess.graph.get_tensor_by_name(\"Input:0\")\n",
        "            # print input_x\n",
        "            mode = sess.graph.get_tensor_by_name('Mode:0')\n",
        "            out_softmax = sess.graph.get_tensor_by_name(\"Y_predict:0\")\n",
        "            \n",
        "            img_try = img_input\n",
        "            test_input = np.float32(img_try)\n",
        "            img_out_softmax = sess.run(out_softmax, feed_dict={input_x:test_input,mode: False})\n",
        "            prediction_labels = np.argmax(img_out_softmax, axis=1)\n",
        "            return prediction_labels\n",
        "\n",
        "\n",
        "start = 0\n",
        "for i in range(1,26):\n",
        "    r = recognize(mnist.test.images[start:start+i], \"./pretrained/graph.pb\")\n",
        "    print(r)\n",
        "    #print(listmapping(r,TV_LOGO_s))"
      ],
      "execution_count": 5,
      "outputs": [
        {
          "output_type": "stream",
          "text": [
            "[7]\n",
            "[7 2]\n",
            "[7 2 1]\n",
            "[7 2 1 0]\n",
            "[7 2 1 0 4]\n",
            "[7 2 1 0 4 1]\n",
            "[7 2 1 0 4 1 4]\n",
            "[7 2 1 0 4 1 4 9]\n",
            "[7 2 1 0 4 1 4 9 5]\n",
            "[7 2 1 0 4 1 4 9 5 9]\n",
            "[7 2 1 0 4 1 4 9 5 9 0]\n",
            "[7 2 1 0 4 1 4 9 5 9 0 6]\n",
            "[7 2 1 0 4 1 4 9 5 9 0 6 9]\n",
            "[7 2 1 0 4 1 4 9 5 9 0 6 9 0]\n",
            "[7 2 1 0 4 1 4 9 5 9 0 6 9 0 1]\n",
            "[7 2 1 0 4 1 4 9 5 9 0 6 9 0 1 5]\n",
            "[7 2 1 0 4 1 4 9 5 9 0 6 9 0 1 5 9]\n",
            "[7 2 1 0 4 1 4 9 5 9 0 6 9 0 1 5 9 7]\n",
            "[7 2 1 0 4 1 4 9 5 9 0 6 9 0 1 5 9 7 3]\n",
            "[7 2 1 0 4 1 4 9 5 9 0 6 9 0 1 5 9 7 3 4]\n",
            "[7 2 1 0 4 1 4 9 5 9 0 6 9 0 1 5 9 7 3 4 9]\n",
            "[7 2 1 0 4 1 4 9 5 9 0 6 9 0 1 5 9 7 3 4 9 6]\n",
            "[7 2 1 0 4 1 4 9 5 9 0 6 9 0 1 5 9 7 3 4 9 6 6]\n",
            "[7 2 1 0 4 1 4 9 5 9 0 6 9 0 1 5 9 7 3 4 9 6 6 5]\n",
            "[7 2 1 0 4 1 4 9 5 9 0 6 9 0 1 5 9 7 3 4 9 6 6 5 4]\n"
          ],
          "name": "stdout"
        }
      ]
    },
    {
      "metadata": {
        "id": "22Jdssh0r2_p",
        "colab_type": "text"
      },
      "cell_type": "markdown",
      "source": [
        "# Step 5. Plot the test results"
      ]
    },
    {
      "metadata": {
        "id": "pDbdBQ-Xr2_q",
        "colab_type": "code",
        "colab": {
          "base_uri": "https://localhost:8080/",
          "height": 366
        },
        "outputId": "148bd0af-37ec-4de3-bb81-aa5a5e0d878c"
      },
      "cell_type": "code",
      "source": [
        "import matplotlib.pyplot as plt\n",
        "for i in range(25):\n",
        "    plt.subplot(5,5,i+1)\n",
        "    image_data = mnist.test.images[start+i].reshape([28,28])\n",
        "    image = plt.imshow(image_data,cmap=plt.get_cmap('gray_r'))\n",
        "plt.show()\n",
        "result_s = np.argmax(mnist.test.labels[start:start+25],1)\n",
        "print(result_s)\n"
      ],
      "execution_count": 6,
      "outputs": [
        {
          "output_type": "display_data",
          "data": {
            "image/png": "[encoded data removed]",
            "text/plain": [
              "<matplotlib.figure.Figure at 0x7f719a7111d0>"
            ]
          },
          "metadata": {
            "tags": []
          }
        },
        {
          "output_type": "stream",
          "text": [
            "[7 2 1 0 4 1 4 9 5 9 0 6 9 0 1 5 9 7 3 4 9 6 6 5 4]\n"
          ],
          "name": "stdout"
        }
      ]
    }
  ]
}