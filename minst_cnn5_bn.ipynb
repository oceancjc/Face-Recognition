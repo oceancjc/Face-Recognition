{
 "cells": [
  {
   "cell_type": "markdown",
   "metadata": {},
   "source": [
    "# Step 1. Import packets and Load Minst Data from file"
   ]
  },
  {
   "cell_type": "code",
   "execution_count": 2,
   "metadata": {
    "colab": {
     "autoexec": {
      "startup": false,
      "wait_interval": 0
     },
     "base_uri": "https://localhost:8080/",
     "height": 423
    },
    "colab_type": "code",
    "executionInfo": {
     "elapsed": 8190,
     "status": "ok",
     "timestamp": 1526374741289,
     "user": {
      "displayName": "Junchao Chen",
      "photoUrl": "https://lh3.googleusercontent.com/a/default-user=s128",
      "userId": "110346252027565801778"
     },
     "user_tz": -480
    },
    "id": "5q_mKQDy3syQ",
    "outputId": "015d4078-f7f7-485c-d205-bb16f3f8e62e"
   },
   "outputs": [
    {
     "name": "stdout",
     "output_type": "stream",
     "text": [
      "Tensorflow version 1.4.0\n",
      "Extracting D:\\MachineLearning\\minst\\train-images-idx3-ubyte.gz\n",
      "Extracting D:\\MachineLearning\\minst\\train-labels-idx1-ubyte.gz\n",
      "Extracting D:\\MachineLearning\\minst\\t10k-images-idx3-ubyte.gz\n",
      "Extracting D:\\MachineLearning\\minst\\t10k-labels-idx1-ubyte.gz\n"
     ]
    }
   ],
   "source": [
    "import tensorflow as tf\n",
    "import numpy as np\n",
    "from tensorflow.examples.tutorials.mnist import input_data as mnist_data\n",
    "print(\"Tensorflow version \" + tf.__version__)\n",
    "from tensorflow.python.client import device_lib\n",
    "device_lib.list_local_devices()\n",
    "\n",
    "# Download images and labels into mnist.test (10K images+labels) and mnist.train (60K images+labels)\n",
    "#For remote: Usually colab.research.google.com\n",
    "#mnist = mnist_data.read_data_sets(\"data\", one_hot=True, reshape=False, validation_size=0)\n",
    "#For local:\n",
    "mnist = mnist_data.read_data_sets(r\"D:\\MachineLearning\\minst\", one_hot=True, reshape=False, validation_size=0)"
   ]
  },
  {
   "cell_type": "markdown",
   "metadata": {},
   "source": [
    "# Step 2. Set up learning model, train the network and save checkpoint"
   ]
  },
  {
   "cell_type": "code",
   "execution_count": 3,
   "metadata": {
    "colab": {
     "autoexec": {
      "startup": false,
      "wait_interval": 0
     },
     "base_uri": "https://localhost:8080/",
     "height": 222
    },
    "colab_type": "code",
    "executionInfo": {
     "elapsed": 1656,
     "status": "ok",
     "timestamp": 1526374743055,
     "user": {
      "displayName": "Junchao Chen",
      "photoUrl": "https://lh3.googleusercontent.com/a/default-user=s128",
      "userId": "110346252027565801778"
     },
     "user_tz": -480
    },
    "id": "CHdis_tJ3zF8",
    "outputId": "478a0992-70a5-44dd-d417-03eb5e499358"
   },
   "outputs": [
    {
     "name": "stdout",
     "output_type": "stream",
     "text": [
      "3136\n",
      "(?, 3136)\n",
      "(?, 7, 7, 64)\n"
     ]
    }
   ],
   "source": [
    "# input X: 28x28 grayscale images, the first dimension (None) will index the images in the mini-batch\n",
    "X = tf.placeholder(tf.float32, [None, 28, 28, 1],name = 'Input')\n",
    "# correct answers will go here\n",
    "Y_LABEL = tf.placeholder(tf.float32, [None, 10],name = 'Label')\n",
    "# variable learning rate\n",
    "lr = tf.placeholder(tf.float32)\n",
    "# test flag for batch norm\n",
    "iftraining = tf.placeholder(tf.bool,name = 'Mode')\n",
    "# dropout probability\n",
    "\n",
    "\n",
    "def batch_normal(X,iftraining):\n",
    "    return  tf.layers.batch_normalization(X, training=iftraining)\n",
    "\n",
    "\n",
    "def hidden_cnn_layer(X, sizeOutput,kernal, stride, activation = 'sigmoid',bn_enable = False,iftraining = True):\n",
    "    W = tf.Variable(tf.truncated_normal([int(kernal), int(kernal), int(X.shape[-1]), int(sizeOutput)], stddev=0.1))\n",
    "    #B = tf.Variable(tf.zeros(sizeOutput))   #Not necessary in bn as offset exists\n",
    "    #Y = tf.nn.conv2d(X, W, strides=[1, stride, stride, 1], padding='SAME') + B\n",
    "    Y = tf.nn.conv2d(X, W, strides=[1, int(stride), int(stride), 1], padding='SAME')\n",
    "    if bn_enable:    Y_bn = batch_normal(Y, iftraining)\n",
    "    else:            Y_bn = Y\n",
    "    if activation == 'sigmoid':    A = tf.nn.sigmoid(Y_bn)\n",
    "    elif activation == 'relu':     A = tf.nn.relu(Y_bn)\n",
    "    else:                          A = Y_bn\n",
    "      \n",
    "    return A\n",
    "                             \n",
    "\n",
    "def hidden_fc_layer(X,sizeOutput,activation = '',bn_enable = False,iftraining = True):\n",
    "    W = tf.Variable(tf.truncated_normal([int(X.shape[-1]), sizeOutput], stddev=0.1))\n",
    "    if bn_enable == False:\n",
    "        B = tf.Variable(tf.zeros(sizeOutput))   #Not necessary in bn as offset exists\n",
    "        Y = tf.matmul(X,W) + B\n",
    "    else:         \n",
    "        Y_linear = tf.matmul(X,W)\n",
    "        Y = batch_normal(Y_linear, iftraining)\n",
    "\n",
    "    if activation == 'sigmoid':     A = tf.nn.sigmoid(Y)\n",
    "    elif activation == 'relu':      A = tf.nn.relu(Y)\n",
    "    else:                           A = Y\n",
    "\n",
    "    return A\n",
    "\n",
    "A1 = hidden_cnn_layer(X, sizeOutput=24, kernal=5, stride=1, activation ='relu', bn_enable=True, iftraining = iftraining)\n",
    "A2 = hidden_cnn_layer(A1,sizeOutput=48, kernal=5, stride=2, activation ='relu', bn_enable=True, iftraining = iftraining)\n",
    "A3 = hidden_cnn_layer(A2,sizeOutput=64, kernal=5, stride=2, activation ='relu', bn_enable=True, iftraining = iftraining)\n",
    "\n",
    "size = 1\n",
    "for i in range(1,len(A3.shape)):     size*= int(A3.shape[i])\n",
    "print(size)\n",
    "A3_reshape = tf.reshape(A3,[-1,size])\n",
    "print(A3_reshape.shape)\n",
    "print(A3.shape)\n",
    "A4 = hidden_fc_layer(A3_reshape,sizeOutput = 200,activation ='relu', bn_enable=True, iftraining = iftraining)\n",
    "Y_linear = hidden_fc_layer(A4,sizeOutput = 10)\n",
    "Y_predict       = tf.nn.softmax(Y_linear,name = 'Y_predict')\n",
    "\n",
    "\n",
    "cross_entropy = tf.reduce_mean(\n",
    "    tf.nn.softmax_cross_entropy_with_logits(labels=Y_LABEL, logits=Y_linear))*100\n",
    "optimizer = tf.train.AdamOptimizer(lr)\n",
    "\n",
    "update_ops = tf.get_collection(tf.GraphKeys.UPDATE_OPS)\n",
    "with tf.control_dependencies(update_ops):\n",
    "    train_step = optimizer.minimize(cross_entropy)"
   ]
  },
  {
   "cell_type": "code",
   "execution_count": 4,
   "metadata": {
    "colab": {
     "autoexec": {
      "startup": false,
      "wait_interval": 0
     },
     "base_uri": "https://localhost:8080/",
     "height": 202
    },
    "colab_type": "code",
    "executionInfo": {
     "elapsed": 153357,
     "status": "ok",
     "timestamp": 1526374896554,
     "user": {
      "displayName": "Junchao Chen",
      "photoUrl": "https://lh3.googleusercontent.com/a/default-user=s128",
      "userId": "110346252027565801778"
     },
     "user_tz": -480
    },
    "id": "4rhn_PkV4AJI",
    "outputId": "e32fc97b-0bee-45fd-cda1-62f8d505f008"
   },
   "outputs": [
    {
     "name": "stdout",
     "output_type": "stream",
     "text": [
      "0 0.7351\n",
      "100 0.9897\n",
      "200 0.991\n",
      "300 0.9912\n"
     ]
    },
    {
     "ename": "KeyboardInterrupt",
     "evalue": "",
     "output_type": "error",
     "traceback": [
      "\u001b[1;31m---------------------------------------------------------------------------\u001b[0m",
      "\u001b[1;31mKeyboardInterrupt\u001b[0m                         Traceback (most recent call last)",
      "\u001b[1;32m<ipython-input-4-368ce9331c05>\u001b[0m in \u001b[0;36m<module>\u001b[1;34m()\u001b[0m\n\u001b[0;32m     11\u001b[0m   \u001b[0mbatch_xs\u001b[0m\u001b[1;33m,\u001b[0m \u001b[0mbatch_ys\u001b[0m \u001b[1;33m=\u001b[0m \u001b[0mmnist\u001b[0m\u001b[1;33m.\u001b[0m\u001b[0mtrain\u001b[0m\u001b[1;33m.\u001b[0m\u001b[0mnext_batch\u001b[0m\u001b[1;33m(\u001b[0m\u001b[1;36m1000\u001b[0m\u001b[1;33m)\u001b[0m\u001b[1;33m\u001b[0m\u001b[0m\n\u001b[0;32m     12\u001b[0m   \u001b[0mlearning_rate\u001b[0m \u001b[1;33m=\u001b[0m \u001b[0mmin_learning_rate\u001b[0m \u001b[1;33m+\u001b[0m \u001b[1;33m(\u001b[0m\u001b[0mmax_learning_rate\u001b[0m \u001b[1;33m-\u001b[0m \u001b[0mmin_learning_rate\u001b[0m\u001b[1;33m)\u001b[0m \u001b[1;33m*\u001b[0m \u001b[0mnp\u001b[0m\u001b[1;33m.\u001b[0m\u001b[0mexp\u001b[0m\u001b[1;33m(\u001b[0m\u001b[1;33m-\u001b[0m\u001b[0m_\u001b[0m\u001b[1;33m/\u001b[0m\u001b[0mdecay_speed\u001b[0m\u001b[1;33m)\u001b[0m\u001b[1;33m\u001b[0m\u001b[0m\n\u001b[1;32m---> 13\u001b[1;33m   \u001b[0msess\u001b[0m\u001b[1;33m.\u001b[0m\u001b[0mrun\u001b[0m\u001b[1;33m(\u001b[0m\u001b[0mtrain_step\u001b[0m\u001b[1;33m,\u001b[0m \u001b[0mfeed_dict\u001b[0m\u001b[1;33m=\u001b[0m\u001b[1;33m{\u001b[0m\u001b[0mX\u001b[0m\u001b[1;33m:\u001b[0m \u001b[0mbatch_xs\u001b[0m\u001b[1;33m,\u001b[0m \u001b[0mY_LABEL\u001b[0m\u001b[1;33m:\u001b[0m \u001b[0mbatch_ys\u001b[0m\u001b[1;33m,\u001b[0m \u001b[0mlr\u001b[0m\u001b[1;33m:\u001b[0m \u001b[0mlearning_rate\u001b[0m\u001b[1;33m,\u001b[0m \u001b[0miftraining\u001b[0m\u001b[1;33m:\u001b[0m \u001b[1;32mTrue\u001b[0m\u001b[1;33m}\u001b[0m\u001b[1;33m)\u001b[0m\u001b[1;33m\u001b[0m\u001b[0m\n\u001b[0m\u001b[0;32m     14\u001b[0m \u001b[1;33m\u001b[0m\u001b[0m\n\u001b[0;32m     15\u001b[0m   \u001b[1;32mif\u001b[0m \u001b[0m_\u001b[0m\u001b[1;33m%\u001b[0m\u001b[1;36m100\u001b[0m \u001b[1;33m==\u001b[0m \u001b[1;36m0\u001b[0m\u001b[1;33m:\u001b[0m\u001b[1;33m\u001b[0m\u001b[0m\n",
      "\u001b[1;32mD:\\Anaconda3\\lib\\site-packages\\tensorflow\\python\\client\\session.py\u001b[0m in \u001b[0;36mrun\u001b[1;34m(self, fetches, feed_dict, options, run_metadata)\u001b[0m\n\u001b[0;32m    887\u001b[0m     \u001b[1;32mtry\u001b[0m\u001b[1;33m:\u001b[0m\u001b[1;33m\u001b[0m\u001b[0m\n\u001b[0;32m    888\u001b[0m       result = self._run(None, fetches, feed_dict, options_ptr,\n\u001b[1;32m--> 889\u001b[1;33m                          run_metadata_ptr)\n\u001b[0m\u001b[0;32m    890\u001b[0m       \u001b[1;32mif\u001b[0m \u001b[0mrun_metadata\u001b[0m\u001b[1;33m:\u001b[0m\u001b[1;33m\u001b[0m\u001b[0m\n\u001b[0;32m    891\u001b[0m         \u001b[0mproto_data\u001b[0m \u001b[1;33m=\u001b[0m \u001b[0mtf_session\u001b[0m\u001b[1;33m.\u001b[0m\u001b[0mTF_GetBuffer\u001b[0m\u001b[1;33m(\u001b[0m\u001b[0mrun_metadata_ptr\u001b[0m\u001b[1;33m)\u001b[0m\u001b[1;33m\u001b[0m\u001b[0m\n",
      "\u001b[1;32mD:\\Anaconda3\\lib\\site-packages\\tensorflow\\python\\client\\session.py\u001b[0m in \u001b[0;36m_run\u001b[1;34m(self, handle, fetches, feed_dict, options, run_metadata)\u001b[0m\n\u001b[0;32m   1118\u001b[0m     \u001b[1;32mif\u001b[0m \u001b[0mfinal_fetches\u001b[0m \u001b[1;32mor\u001b[0m \u001b[0mfinal_targets\u001b[0m \u001b[1;32mor\u001b[0m \u001b[1;33m(\u001b[0m\u001b[0mhandle\u001b[0m \u001b[1;32mand\u001b[0m \u001b[0mfeed_dict_tensor\u001b[0m\u001b[1;33m)\u001b[0m\u001b[1;33m:\u001b[0m\u001b[1;33m\u001b[0m\u001b[0m\n\u001b[0;32m   1119\u001b[0m       results = self._do_run(handle, final_targets, final_fetches,\n\u001b[1;32m-> 1120\u001b[1;33m                              feed_dict_tensor, options, run_metadata)\n\u001b[0m\u001b[0;32m   1121\u001b[0m     \u001b[1;32melse\u001b[0m\u001b[1;33m:\u001b[0m\u001b[1;33m\u001b[0m\u001b[0m\n\u001b[0;32m   1122\u001b[0m       \u001b[0mresults\u001b[0m \u001b[1;33m=\u001b[0m \u001b[1;33m[\u001b[0m\u001b[1;33m]\u001b[0m\u001b[1;33m\u001b[0m\u001b[0m\n",
      "\u001b[1;32mD:\\Anaconda3\\lib\\site-packages\\tensorflow\\python\\client\\session.py\u001b[0m in \u001b[0;36m_do_run\u001b[1;34m(self, handle, target_list, fetch_list, feed_dict, options, run_metadata)\u001b[0m\n\u001b[0;32m   1315\u001b[0m     \u001b[1;32mif\u001b[0m \u001b[0mhandle\u001b[0m \u001b[1;32mis\u001b[0m \u001b[1;32mNone\u001b[0m\u001b[1;33m:\u001b[0m\u001b[1;33m\u001b[0m\u001b[0m\n\u001b[0;32m   1316\u001b[0m       return self._do_call(_run_fn, self._session, feeds, fetches, targets,\n\u001b[1;32m-> 1317\u001b[1;33m                            options, run_metadata)\n\u001b[0m\u001b[0;32m   1318\u001b[0m     \u001b[1;32melse\u001b[0m\u001b[1;33m:\u001b[0m\u001b[1;33m\u001b[0m\u001b[0m\n\u001b[0;32m   1319\u001b[0m       \u001b[1;32mreturn\u001b[0m \u001b[0mself\u001b[0m\u001b[1;33m.\u001b[0m\u001b[0m_do_call\u001b[0m\u001b[1;33m(\u001b[0m\u001b[0m_prun_fn\u001b[0m\u001b[1;33m,\u001b[0m \u001b[0mself\u001b[0m\u001b[1;33m.\u001b[0m\u001b[0m_session\u001b[0m\u001b[1;33m,\u001b[0m \u001b[0mhandle\u001b[0m\u001b[1;33m,\u001b[0m \u001b[0mfeeds\u001b[0m\u001b[1;33m,\u001b[0m \u001b[0mfetches\u001b[0m\u001b[1;33m)\u001b[0m\u001b[1;33m\u001b[0m\u001b[0m\n",
      "\u001b[1;32mD:\\Anaconda3\\lib\\site-packages\\tensorflow\\python\\client\\session.py\u001b[0m in \u001b[0;36m_do_call\u001b[1;34m(self, fn, *args)\u001b[0m\n\u001b[0;32m   1321\u001b[0m   \u001b[1;32mdef\u001b[0m \u001b[0m_do_call\u001b[0m\u001b[1;33m(\u001b[0m\u001b[0mself\u001b[0m\u001b[1;33m,\u001b[0m \u001b[0mfn\u001b[0m\u001b[1;33m,\u001b[0m \u001b[1;33m*\u001b[0m\u001b[0margs\u001b[0m\u001b[1;33m)\u001b[0m\u001b[1;33m:\u001b[0m\u001b[1;33m\u001b[0m\u001b[0m\n\u001b[0;32m   1322\u001b[0m     \u001b[1;32mtry\u001b[0m\u001b[1;33m:\u001b[0m\u001b[1;33m\u001b[0m\u001b[0m\n\u001b[1;32m-> 1323\u001b[1;33m       \u001b[1;32mreturn\u001b[0m \u001b[0mfn\u001b[0m\u001b[1;33m(\u001b[0m\u001b[1;33m*\u001b[0m\u001b[0margs\u001b[0m\u001b[1;33m)\u001b[0m\u001b[1;33m\u001b[0m\u001b[0m\n\u001b[0m\u001b[0;32m   1324\u001b[0m     \u001b[1;32mexcept\u001b[0m \u001b[0merrors\u001b[0m\u001b[1;33m.\u001b[0m\u001b[0mOpError\u001b[0m \u001b[1;32mas\u001b[0m \u001b[0me\u001b[0m\u001b[1;33m:\u001b[0m\u001b[1;33m\u001b[0m\u001b[0m\n\u001b[0;32m   1325\u001b[0m       \u001b[0mmessage\u001b[0m \u001b[1;33m=\u001b[0m \u001b[0mcompat\u001b[0m\u001b[1;33m.\u001b[0m\u001b[0mas_text\u001b[0m\u001b[1;33m(\u001b[0m\u001b[0me\u001b[0m\u001b[1;33m.\u001b[0m\u001b[0mmessage\u001b[0m\u001b[1;33m)\u001b[0m\u001b[1;33m\u001b[0m\u001b[0m\n",
      "\u001b[1;32mD:\\Anaconda3\\lib\\site-packages\\tensorflow\\python\\client\\session.py\u001b[0m in \u001b[0;36m_run_fn\u001b[1;34m(session, feed_dict, fetch_list, target_list, options, run_metadata)\u001b[0m\n\u001b[0;32m   1300\u001b[0m           return tf_session.TF_Run(session, options,\n\u001b[0;32m   1301\u001b[0m                                    \u001b[0mfeed_dict\u001b[0m\u001b[1;33m,\u001b[0m \u001b[0mfetch_list\u001b[0m\u001b[1;33m,\u001b[0m \u001b[0mtarget_list\u001b[0m\u001b[1;33m,\u001b[0m\u001b[1;33m\u001b[0m\u001b[0m\n\u001b[1;32m-> 1302\u001b[1;33m                                    status, run_metadata)\n\u001b[0m\u001b[0;32m   1303\u001b[0m \u001b[1;33m\u001b[0m\u001b[0m\n\u001b[0;32m   1304\u001b[0m     \u001b[1;32mdef\u001b[0m \u001b[0m_prun_fn\u001b[0m\u001b[1;33m(\u001b[0m\u001b[0msession\u001b[0m\u001b[1;33m,\u001b[0m \u001b[0mhandle\u001b[0m\u001b[1;33m,\u001b[0m \u001b[0mfeed_dict\u001b[0m\u001b[1;33m,\u001b[0m \u001b[0mfetch_list\u001b[0m\u001b[1;33m)\u001b[0m\u001b[1;33m:\u001b[0m\u001b[1;33m\u001b[0m\u001b[0m\n",
      "\u001b[1;31mKeyboardInterrupt\u001b[0m: "
     ]
    }
   ],
   "source": [
    "sess = tf.InteractiveSession()\n",
    "tf.global_variables_initializer().run()\n",
    "\n",
    "max_learning_rate = 0.015\n",
    "min_learning_rate = 0.001\n",
    "decay_speed = 1000.0\n",
    "\n",
    "import time\n",
    "time_start=time.time()/1000.    #1970.1.1开始到现在的秒数\n",
    "\n",
    "saver = tf.train.Saver()   \n",
    "for _ in range(1000+1):\n",
    "  batch_xs, batch_ys = mnist.train.next_batch(1000)\n",
    "  learning_rate = min_learning_rate + (max_learning_rate - min_learning_rate) * np.exp(-_/decay_speed)\n",
    "  sess.run(train_step, feed_dict={X: batch_xs, Y_LABEL: batch_ys, lr: learning_rate, iftraining: True})\n",
    "\n",
    "  if _%100 == 0:  \n",
    "    correct_prediction = tf.equal(tf.argmax(Y_linear, 1), tf.argmax(Y_LABEL, 1))\n",
    "    accuracy = tf.reduce_mean(tf.cast(correct_prediction, tf.float32))\n",
    "    print(_, sess.run(accuracy, feed_dict={X: mnist.test.images, Y_LABEL: mnist.test.labels, iftraining: True}))\n",
    "    saver.save(sess, \"./Model_Minst/CNN_bn.ckpt\",global_step= _ )\n",
    "\n",
    "time_end=time.time()/1000.\n",
    "print('totally cost (s)',time_end-time_start)"
   ]
  },
  {
   "cell_type": "markdown",
   "metadata": {
    "colab_type": "text",
    "id": "Zimg7WC-5WHg"
   },
   "source": [
    "# Step 3. Freeze learning model. Use checkpoint file to generate pb file"
   ]
  },
  {
   "cell_type": "code",
   "execution_count": 5,
   "metadata": {
    "colab": {
     "autoexec": {
      "startup": false,
      "wait_interval": 0
     },
     "base_uri": "https://localhost:8080/",
     "height": 67
    },
    "colab_type": "code",
    "executionInfo": {
     "elapsed": 1831,
     "status": "ok",
     "timestamp": 1526374898428,
     "user": {
      "displayName": "Junchao Chen",
      "photoUrl": "https://lh3.googleusercontent.com/a/default-user=s128",
      "userId": "110346252027565801778"
     },
     "user_tz": -480
    },
    "id": "TXiW0raC5gjF",
    "outputId": "f750661c-f042-4cf3-f78e-de5e5475f0f7"
   },
   "outputs": [
    {
     "name": "stdout",
     "output_type": "stream",
     "text": [
      "INFO:tensorflow:Restoring parameters from ./Model_Minst\\CNN_bn.ckpt-300\n",
      "INFO:tensorflow:Froze 22 variables.\n",
      "Converted 22 variables to const ops.\n"
     ]
    }
   ],
   "source": [
    "import tensorflow as tf\n",
    "with tf.Session() as sess:\n",
    "\n",
    "    #初始化变量\n",
    "    sess.run(tf.global_variables_initializer())\n",
    "\n",
    "    #获取最新的checkpoint，其实就是解析了checkpoint文件\n",
    "    latest_ckpt = tf.train.latest_checkpoint(\"./Model_Minst\")\n",
    "\n",
    "    #加载图\n",
    "    restore_saver = tf.train.import_meta_graph('./Model_Minst/CNN_bn.ckpt-300.meta')\n",
    "\n",
    "    #恢复图，即将weights等参数加入图对应位置中\n",
    "    restore_saver.restore(sess, latest_ckpt)\n",
    "\n",
    "    #将图中的变量转为常量\n",
    "    output_graph_def = tf.graph_util.convert_variables_to_constants(\n",
    "        sess, sess.graph_def , [\"Y_predict\"])\n",
    "    #将新的图保存到\"/pretrained/graph.pb\"文件中\n",
    "    tf.train.write_graph(output_graph_def, 'pretrained', \"graph.pb\", as_text=False)"
   ]
  },
  {
   "cell_type": "markdown",
   "metadata": {},
   "source": [
    "# Step 4. Prediction: Test batch size increase from 1"
   ]
  },
  {
   "cell_type": "code",
   "execution_count": 11,
   "metadata": {
    "colab": {
     "autoexec": {
      "startup": false,
      "wait_interval": 0
     },
     "base_uri": "https://localhost:8080/",
     "height": 346
    },
    "colab_type": "code",
    "executionInfo": {
     "elapsed": 994,
     "status": "error",
     "timestamp": 1526374899455,
     "user": {
      "displayName": "Junchao Chen",
      "photoUrl": "https://lh3.googleusercontent.com/a/default-user=s128",
      "userId": "110346252027565801778"
     },
     "user_tz": -480
    },
    "id": "W9Rv3Xu57gDR",
    "outputId": "106e66fa-d05e-4356-a52a-482a704d4942"
   },
   "outputs": [
    {
     "name": "stdout",
     "output_type": "stream",
     "text": [
      "[7]\n",
      "[7 2]\n",
      "[7 2 1]\n",
      "[7 2 1 0]\n",
      "[7 2 1 0 4]\n",
      "[7 2 1 0 4 1]\n",
      "[7 2 1 0 4 1 4]\n",
      "[7 2 1 0 4 1 4 9]\n",
      "[7 2 1 0 4 1 4 9 5]\n",
      "[7 2 1 0 4 1 4 9 5 9]\n",
      "[7 2 1 0 4 1 4 9 5 9 0]\n",
      "[7 2 1 0 4 1 4 9 5 9 0 6]\n",
      "[7 2 1 0 4 1 4 9 5 9 0 6 9]\n",
      "[7 2 1 0 4 1 4 9 5 9 0 6 9 0]\n",
      "[7 2 1 0 4 1 4 9 5 9 0 6 9 0 1]\n",
      "[7 2 1 0 4 1 4 9 5 9 0 6 9 0 1 5]\n",
      "[7 2 1 0 4 1 4 9 5 9 0 6 9 0 1 5 9]\n",
      "[7 2 1 0 4 1 4 9 5 9 0 6 9 0 1 5 9 7]\n",
      "[7 2 1 0 4 1 4 9 5 9 0 6 9 0 1 5 9 7 3]\n",
      "[7 2 1 0 4 1 4 9 5 9 0 6 9 0 1 5 9 7 3 4]\n",
      "[7 2 1 0 4 1 4 9 5 9 0 6 9 0 1 5 9 7 3 4 9]\n",
      "[7 2 1 0 4 1 4 9 5 9 0 6 9 0 1 5 9 7 3 4 9 6]\n",
      "[7 2 1 0 4 1 4 9 5 9 0 6 9 0 1 5 9 7 3 4 9 6 6]\n",
      "[7 2 1 0 4 1 4 9 5 9 0 6 9 0 1 5 9 7 3 4 9 6 6 5]\n",
      "[7 2 1 0 4 1 4 9 5 9 0 6 9 0 1 5 9 7 3 4 9 6 6 5 4]\n"
     ]
    }
   ],
   "source": [
    "import numpy as np\n",
    "import tensorflow as tf\n",
    "\n",
    "\n",
    "def recognize(img_input, pb_file_path):\n",
    "    with tf.Graph().as_default():\n",
    "        output_graph_def = tf.GraphDef()\n",
    "\n",
    "        with open(pb_file_path, \"rb\") as f:\n",
    "            output_graph_def.ParseFromString(f.read())\n",
    "            _ = tf.import_graph_def(output_graph_def, name=\"\")\n",
    "\n",
    "        with tf.Session() as sess:\n",
    "            init = tf.global_variables_initializer()\n",
    "            sess.run(init)\n",
    "\n",
    "            input_x = sess.graph.get_tensor_by_name(\"Input:0\")\n",
    "            # print input_x\n",
    "            mode = sess.graph.get_tensor_by_name('Mode:0')\n",
    "            out_softmax = sess.graph.get_tensor_by_name(\"Y_predict:0\")\n",
    "            \n",
    "            img_try = img_input\n",
    "            test_input = np.float32(img_try)\n",
    "            img_out_softmax = sess.run(out_softmax, feed_dict={input_x:test_input,mode: False})\n",
    "            prediction_labels = np.argmax(img_out_softmax, axis=1)\n",
    "            return prediction_labels\n",
    "\n",
    "\n",
    "start = 0\n",
    "for i in range(1,26):\n",
    "    r = recognize(mnist.test.images[start:start+i], \"./pretrained/graph.pb\")\n",
    "    print(r)\n",
    "    #print(listmapping(r,TV_LOGO_s))"
   ]
  },
  {
   "cell_type": "markdown",
   "metadata": {},
   "source": [
    "# Step 5. Plot the test results"
   ]
  },
  {
   "cell_type": "code",
   "execution_count": 17,
   "metadata": {},
   "outputs": [
    {
     "data": {
      "image/png": "[encoded data removed]",
      "text/plain": [
       "<matplotlib.figure.Figure at 0x20480774c50>"
      ]
     },
     "metadata": {},
     "output_type": "display_data"
    },
    {
     "name": "stdout",
     "output_type": "stream",
     "text": [
      "[7 2 1 0 4 1 4 9 5 9 0 6 9 0 1 5 9 7 3 4 9 6 6 5 4]\n"
     ]
    }
   ],
   "source": [
    "import matplotlib.pyplot as plt\n",
    "for i in range(25):\n",
    "    plt.subplot(5,5,i+1)\n",
    "    image_data = mnist.test.images[start+i].reshape([28,28])\n",
    "    image = plt.imshow(image_data,cmap=plt.get_cmap('gray_r'))\n",
    "plt.show()\n",
    "result_s = np.argmax(mnist.test.labels[start:start+25],1)\n",
    "print(result_s)"
   ]
  }
 ],
 "metadata": {
  "accelerator": "GPU",
  "colab": {
   "default_view": {},
   "name": "Copy of Untitled3.ipynb",
   "provenance": [
    {
     "file_id": "17UxuXoRohbYl7RUJO5fZ5KPi4hK5Cd6k",
     "timestamp": 1526375007888
    }
   ],
   "version": "0.3.2",
   "views": {}
  },
  "kernelspec": {
   "display_name": "Python 3",
   "language": "python",
   "name": "python3"
  },
  "language_info": {
   "codemirror_mode": {
    "name": "ipython",
    "version": 3
   },
   "file_extension": ".py",
   "mimetype": "text/x-python",
   "name": "python",
   "nbconvert_exporter": "python",
   "pygments_lexer": "ipython3",
   "version": "3.6.3"
  }
 },
 "nbformat": 4,
 "nbformat_minor": 1
}
